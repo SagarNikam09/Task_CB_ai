{
  "nbformat": 4,
  "nbformat_minor": 0,
  "metadata": {
    "colab": {
      "provenance": [],
      "authorship_tag": "ABX9TyNArjDXom+Q/q38hf+8omC4",
      "include_colab_link": true
    },
    "kernelspec": {
      "name": "python3",
      "display_name": "Python 3"
    },
    "language_info": {
      "name": "python"
    }
  },
  "cells": [
    {
      "cell_type": "markdown",
      "metadata": {
        "id": "view-in-github",
        "colab_type": "text"
      },
      "source": [
        "<a href=\"https://colab.research.google.com/github/SagarNikam09/Task_CB_ai/blob/main/Task_CB.ipynb\" target=\"_parent\"><img src=\"https://colab.research.google.com/assets/colab-badge.svg\" alt=\"Open In Colab\"/></a>"
      ]
    },
    {
      "cell_type": "code",
      "source": [
        "import pandas as pd\n",
        "import numpy as np"
      ],
      "metadata": {
        "id": "uVIIeb2EWzaX"
      },
      "execution_count": 2,
      "outputs": []
    },
    {
      "cell_type": "markdown",
      "source": [
        "Q1]"
      ],
      "metadata": {
        "id": "WViwSHSeYvj3"
      }
    },
    {
      "cell_type": "code",
      "source": [
        "def data_cleanup_summary(csv_file_path):\n",
        "\n",
        "    try:\n",
        "        df = pd.read_csv(csv_file_path)\n",
        "        print(\"Original data:\")\n",
        "        print(df.head())\n",
        "        print(f\"\\nMissing values:\\n{df.isnull().sum()}\")\n",
        "\n",
        "        numeric_columns = ['Math', 'Science', 'English']\n",
        "        for col in numeric_columns:\n",
        "            if col in df.columns:\n",
        "                df[col] = df[col].fillna(df[col].mean())\n",
        "\n",
        "        if 'Gender' in df.columns:\n",
        "            df['Gender_Binary'] = df['Gender'].map({'Male': 1, 'Female': 0})\n",
        "            df['Gender_Binary'] = df['Gender_Binary'].fillna(\n",
        "                df['Gender'].apply(lambda x: 1 if str(x).lower().startswith('m') else 0)\n",
        "            )\n",
        "\n",
        "        summary = df.groupby('Gender')[numeric_columns].mean().round(2)\n",
        "\n",
        "        print(\"\\nCleaned data:\")\n",
        "        print(df.head())\n",
        "        print(f\"\\nSummary by Gender:\")\n",
        "        print(summary)\n",
        "\n",
        "        return summary\n",
        "\n",
        "    except FileNotFoundError:\n",
        "        print(f\"File {csv_file_path} not found. Creating sample data for demonstration...\")\n",
        ""
      ],
      "metadata": {
        "id": "9_G8EEPOXhNu"
      },
      "execution_count": 3,
      "outputs": []
    },
    {
      "cell_type": "markdown",
      "source": [
        "Q2]"
      ],
      "metadata": {
        "id": "JD8NzW_sY1cP"
      }
    },
    {
      "cell_type": "code",
      "source": [
        "def dictionary_stats(user_scores_dict):\n",
        "\n",
        "    result = {}\n",
        "\n",
        "    for user, scores in user_scores_dict.items():\n",
        "        result[user] = {\n",
        "            'average': np.mean(scores),\n",
        "            'min': np.min(scores),\n",
        "            'max': np.max(scores)\n",
        "        }\n",
        "\n",
        "    return result"
      ],
      "metadata": {
        "id": "kswrIVb7Xt4K"
      },
      "execution_count": 11,
      "outputs": []
    },
    {
      "cell_type": "code",
      "source": [],
      "metadata": {
        "id": "WJlJvUp1ZEZ0"
      },
      "execution_count": null,
      "outputs": []
    }
  ]
}