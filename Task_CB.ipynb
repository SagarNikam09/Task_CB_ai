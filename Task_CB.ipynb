{
  "nbformat": 4,
  "nbformat_minor": 0,
  "metadata": {
    "colab": {
      "provenance": [],
      "authorship_tag": "ABX9TyMsyncrtAPj4P3pnsWYfFzk",
      "include_colab_link": true
    },
    "kernelspec": {
      "name": "python3",
      "display_name": "Python 3"
    },
    "language_info": {
      "name": "python"
    }
  },
  "cells": [
    {
      "cell_type": "markdown",
      "metadata": {
        "id": "view-in-github",
        "colab_type": "text"
      },
      "source": [
        "<a href=\"https://colab.research.google.com/github/SagarNikam09/Task_CB_ai/blob/main/Task_CB.ipynb\" target=\"_parent\"><img src=\"https://colab.research.google.com/assets/colab-badge.svg\" alt=\"Open In Colab\"/></a>"
      ]
    },
    {
      "cell_type": "markdown",
      "source": [
        "#Section A\n",
        "Q1]"
      ],
      "metadata": {
        "id": "WViwSHSeYvj3"
      }
    },
    {
      "cell_type": "code",
      "source": [
        "import pandas as pd\n",
        "import numpy as np"
      ],
      "metadata": {
        "id": "uVIIeb2EWzaX"
      },
      "execution_count": 2,
      "outputs": []
    },
    {
      "cell_type": "code",
      "source": [
        "def data_cleanup_summary(csv_file_path):\n",
        "\n",
        "    try:\n",
        "        df = pd.read_csv(csv_file_path)\n",
        "        print(\"Original data:\")\n",
        "        print(df.head())\n",
        "        print(f\"\\nMissing values:\\n{df.isnull().sum()}\")\n",
        "\n",
        "        numeric_columns = ['Math', 'Science', 'English']\n",
        "        for col in numeric_columns:\n",
        "            if col in df.columns:\n",
        "                df[col] = df[col].fillna(df[col].mean())\n",
        "\n",
        "        if 'Gender' in df.columns:\n",
        "            df['Gender_Binary'] = df['Gender'].map({'Male': 1, 'Female': 0})\n",
        "            df['Gender_Binary'] = df['Gender_Binary'].fillna(\n",
        "                df['Gender'].apply(lambda x: 1 if str(x).lower().startswith('m') else 0)\n",
        "            )\n",
        "\n",
        "        summary = df.groupby('Gender')[numeric_columns].mean().round(2)\n",
        "\n",
        "        print(\"\\nCleaned data:\")\n",
        "        print(df.head())\n",
        "        print(f\"\\nSummary by Gender:\")\n",
        "        print(summary)\n",
        "\n",
        "        return summary\n",
        "\n",
        "    except FileNotFoundError:\n",
        "        print(f\"File {csv_file_path} not found. Creating sample data for demonstration...\")\n",
        ""
      ],
      "metadata": {
        "id": "9_G8EEPOXhNu"
      },
      "execution_count": 3,
      "outputs": []
    },
    {
      "cell_type": "code",
      "source": [
        "data_cleanup_summary('student_data.csv')"
      ],
      "metadata": {
        "colab": {
          "base_uri": "https://localhost:8080/",
          "height": 681
        },
        "id": "JkzqhFK8ioCj",
        "outputId": "a566c635-b1d5-4fae-dab5-7f1acc565688"
      },
      "execution_count": 20,
      "outputs": [
        {
          "output_type": "stream",
          "name": "stdout",
          "text": [
            "Original data:\n",
            "   Unnamed: 0     Name  Math  Science  English  Gender  Gender_Binary\n",
            "0           0    Alice  85.0     88.0     90.0  Female              0\n",
            "1           1      Bob  90.0     87.6     87.0    Male              1\n",
            "2           2  Charlie  88.4     85.0     89.0    Male              1\n",
            "3           3    Diana  88.0     90.0     89.0  Female              0\n",
            "4           4      Eve  92.0     89.0     91.0  Female              0\n",
            "\n",
            "Missing values:\n",
            "Unnamed: 0       0\n",
            "Name             0\n",
            "Math             0\n",
            "Science          0\n",
            "English          0\n",
            "Gender           0\n",
            "Gender_Binary    0\n",
            "dtype: int64\n",
            "\n",
            "Cleaned data:\n",
            "   Unnamed: 0     Name  Math  Science  English  Gender  Gender_Binary\n",
            "0           0    Alice  85.0     88.0     90.0  Female              0\n",
            "1           1      Bob  90.0     87.6     87.0    Male              1\n",
            "2           2  Charlie  88.4     85.0     89.0    Male              1\n",
            "3           3    Diana  88.0     90.0     89.0  Female              0\n",
            "4           4      Eve  92.0     89.0     91.0  Female              0\n",
            "\n",
            "Summary by Gender:\n",
            "         Math  Science  English\n",
            "Gender                         \n",
            "Female  88.33     89.0     90.0\n",
            "Male    88.47     86.2     88.0\n"
          ]
        },
        {
          "output_type": "execute_result",
          "data": {
            "text/plain": [
              "         Math  Science  English\n",
              "Gender                         \n",
              "Female  88.33     89.0     90.0\n",
              "Male    88.47     86.2     88.0"
            ],
            "text/html": [
              "\n",
              "  <div id=\"df-a988e8e6-db8b-4bc9-88bf-e02e8327a39a\" class=\"colab-df-container\">\n",
              "    <div>\n",
              "<style scoped>\n",
              "    .dataframe tbody tr th:only-of-type {\n",
              "        vertical-align: middle;\n",
              "    }\n",
              "\n",
              "    .dataframe tbody tr th {\n",
              "        vertical-align: top;\n",
              "    }\n",
              "\n",
              "    .dataframe thead th {\n",
              "        text-align: right;\n",
              "    }\n",
              "</style>\n",
              "<table border=\"1\" class=\"dataframe\">\n",
              "  <thead>\n",
              "    <tr style=\"text-align: right;\">\n",
              "      <th></th>\n",
              "      <th>Math</th>\n",
              "      <th>Science</th>\n",
              "      <th>English</th>\n",
              "    </tr>\n",
              "    <tr>\n",
              "      <th>Gender</th>\n",
              "      <th></th>\n",
              "      <th></th>\n",
              "      <th></th>\n",
              "    </tr>\n",
              "  </thead>\n",
              "  <tbody>\n",
              "    <tr>\n",
              "      <th>Female</th>\n",
              "      <td>88.33</td>\n",
              "      <td>89.0</td>\n",
              "      <td>90.0</td>\n",
              "    </tr>\n",
              "    <tr>\n",
              "      <th>Male</th>\n",
              "      <td>88.47</td>\n",
              "      <td>86.2</td>\n",
              "      <td>88.0</td>\n",
              "    </tr>\n",
              "  </tbody>\n",
              "</table>\n",
              "</div>\n",
              "    <div class=\"colab-df-buttons\">\n",
              "\n",
              "  <div class=\"colab-df-container\">\n",
              "    <button class=\"colab-df-convert\" onclick=\"convertToInteractive('df-a988e8e6-db8b-4bc9-88bf-e02e8327a39a')\"\n",
              "            title=\"Convert this dataframe to an interactive table.\"\n",
              "            style=\"display:none;\">\n",
              "\n",
              "  <svg xmlns=\"http://www.w3.org/2000/svg\" height=\"24px\" viewBox=\"0 -960 960 960\">\n",
              "    <path d=\"M120-120v-720h720v720H120Zm60-500h600v-160H180v160Zm220 220h160v-160H400v160Zm0 220h160v-160H400v160ZM180-400h160v-160H180v160Zm440 0h160v-160H620v160ZM180-180h160v-160H180v160Zm440 0h160v-160H620v160Z\"/>\n",
              "  </svg>\n",
              "    </button>\n",
              "\n",
              "  <style>\n",
              "    .colab-df-container {\n",
              "      display:flex;\n",
              "      gap: 12px;\n",
              "    }\n",
              "\n",
              "    .colab-df-convert {\n",
              "      background-color: #E8F0FE;\n",
              "      border: none;\n",
              "      border-radius: 50%;\n",
              "      cursor: pointer;\n",
              "      display: none;\n",
              "      fill: #1967D2;\n",
              "      height: 32px;\n",
              "      padding: 0 0 0 0;\n",
              "      width: 32px;\n",
              "    }\n",
              "\n",
              "    .colab-df-convert:hover {\n",
              "      background-color: #E2EBFA;\n",
              "      box-shadow: 0px 1px 2px rgba(60, 64, 67, 0.3), 0px 1px 3px 1px rgba(60, 64, 67, 0.15);\n",
              "      fill: #174EA6;\n",
              "    }\n",
              "\n",
              "    .colab-df-buttons div {\n",
              "      margin-bottom: 4px;\n",
              "    }\n",
              "\n",
              "    [theme=dark] .colab-df-convert {\n",
              "      background-color: #3B4455;\n",
              "      fill: #D2E3FC;\n",
              "    }\n",
              "\n",
              "    [theme=dark] .colab-df-convert:hover {\n",
              "      background-color: #434B5C;\n",
              "      box-shadow: 0px 1px 3px 1px rgba(0, 0, 0, 0.15);\n",
              "      filter: drop-shadow(0px 1px 2px rgba(0, 0, 0, 0.3));\n",
              "      fill: #FFFFFF;\n",
              "    }\n",
              "  </style>\n",
              "\n",
              "    <script>\n",
              "      const buttonEl =\n",
              "        document.querySelector('#df-a988e8e6-db8b-4bc9-88bf-e02e8327a39a button.colab-df-convert');\n",
              "      buttonEl.style.display =\n",
              "        google.colab.kernel.accessAllowed ? 'block' : 'none';\n",
              "\n",
              "      async function convertToInteractive(key) {\n",
              "        const element = document.querySelector('#df-a988e8e6-db8b-4bc9-88bf-e02e8327a39a');\n",
              "        const dataTable =\n",
              "          await google.colab.kernel.invokeFunction('convertToInteractive',\n",
              "                                                    [key], {});\n",
              "        if (!dataTable) return;\n",
              "\n",
              "        const docLinkHtml = 'Like what you see? Visit the ' +\n",
              "          '<a target=\"_blank\" href=https://colab.research.google.com/notebooks/data_table.ipynb>data table notebook</a>'\n",
              "          + ' to learn more about interactive tables.';\n",
              "        element.innerHTML = '';\n",
              "        dataTable['output_type'] = 'display_data';\n",
              "        await google.colab.output.renderOutput(dataTable, element);\n",
              "        const docLink = document.createElement('div');\n",
              "        docLink.innerHTML = docLinkHtml;\n",
              "        element.appendChild(docLink);\n",
              "      }\n",
              "    </script>\n",
              "  </div>\n",
              "\n",
              "\n",
              "    <div id=\"df-ae465c76-e013-4062-8d09-663a6dee0f30\">\n",
              "      <button class=\"colab-df-quickchart\" onclick=\"quickchart('df-ae465c76-e013-4062-8d09-663a6dee0f30')\"\n",
              "                title=\"Suggest charts\"\n",
              "                style=\"display:none;\">\n",
              "\n",
              "<svg xmlns=\"http://www.w3.org/2000/svg\" height=\"24px\"viewBox=\"0 0 24 24\"\n",
              "     width=\"24px\">\n",
              "    <g>\n",
              "        <path d=\"M19 3H5c-1.1 0-2 .9-2 2v14c0 1.1.9 2 2 2h14c1.1 0 2-.9 2-2V5c0-1.1-.9-2-2-2zM9 17H7v-7h2v7zm4 0h-2V7h2v10zm4 0h-2v-4h2v4z\"/>\n",
              "    </g>\n",
              "</svg>\n",
              "      </button>\n",
              "\n",
              "<style>\n",
              "  .colab-df-quickchart {\n",
              "      --bg-color: #E8F0FE;\n",
              "      --fill-color: #1967D2;\n",
              "      --hover-bg-color: #E2EBFA;\n",
              "      --hover-fill-color: #174EA6;\n",
              "      --disabled-fill-color: #AAA;\n",
              "      --disabled-bg-color: #DDD;\n",
              "  }\n",
              "\n",
              "  [theme=dark] .colab-df-quickchart {\n",
              "      --bg-color: #3B4455;\n",
              "      --fill-color: #D2E3FC;\n",
              "      --hover-bg-color: #434B5C;\n",
              "      --hover-fill-color: #FFFFFF;\n",
              "      --disabled-bg-color: #3B4455;\n",
              "      --disabled-fill-color: #666;\n",
              "  }\n",
              "\n",
              "  .colab-df-quickchart {\n",
              "    background-color: var(--bg-color);\n",
              "    border: none;\n",
              "    border-radius: 50%;\n",
              "    cursor: pointer;\n",
              "    display: none;\n",
              "    fill: var(--fill-color);\n",
              "    height: 32px;\n",
              "    padding: 0;\n",
              "    width: 32px;\n",
              "  }\n",
              "\n",
              "  .colab-df-quickchart:hover {\n",
              "    background-color: var(--hover-bg-color);\n",
              "    box-shadow: 0 1px 2px rgba(60, 64, 67, 0.3), 0 1px 3px 1px rgba(60, 64, 67, 0.15);\n",
              "    fill: var(--button-hover-fill-color);\n",
              "  }\n",
              "\n",
              "  .colab-df-quickchart-complete:disabled,\n",
              "  .colab-df-quickchart-complete:disabled:hover {\n",
              "    background-color: var(--disabled-bg-color);\n",
              "    fill: var(--disabled-fill-color);\n",
              "    box-shadow: none;\n",
              "  }\n",
              "\n",
              "  .colab-df-spinner {\n",
              "    border: 2px solid var(--fill-color);\n",
              "    border-color: transparent;\n",
              "    border-bottom-color: var(--fill-color);\n",
              "    animation:\n",
              "      spin 1s steps(1) infinite;\n",
              "  }\n",
              "\n",
              "  @keyframes spin {\n",
              "    0% {\n",
              "      border-color: transparent;\n",
              "      border-bottom-color: var(--fill-color);\n",
              "      border-left-color: var(--fill-color);\n",
              "    }\n",
              "    20% {\n",
              "      border-color: transparent;\n",
              "      border-left-color: var(--fill-color);\n",
              "      border-top-color: var(--fill-color);\n",
              "    }\n",
              "    30% {\n",
              "      border-color: transparent;\n",
              "      border-left-color: var(--fill-color);\n",
              "      border-top-color: var(--fill-color);\n",
              "      border-right-color: var(--fill-color);\n",
              "    }\n",
              "    40% {\n",
              "      border-color: transparent;\n",
              "      border-right-color: var(--fill-color);\n",
              "      border-top-color: var(--fill-color);\n",
              "    }\n",
              "    60% {\n",
              "      border-color: transparent;\n",
              "      border-right-color: var(--fill-color);\n",
              "    }\n",
              "    80% {\n",
              "      border-color: transparent;\n",
              "      border-right-color: var(--fill-color);\n",
              "      border-bottom-color: var(--fill-color);\n",
              "    }\n",
              "    90% {\n",
              "      border-color: transparent;\n",
              "      border-bottom-color: var(--fill-color);\n",
              "    }\n",
              "  }\n",
              "</style>\n",
              "\n",
              "      <script>\n",
              "        async function quickchart(key) {\n",
              "          const quickchartButtonEl =\n",
              "            document.querySelector('#' + key + ' button');\n",
              "          quickchartButtonEl.disabled = true;  // To prevent multiple clicks.\n",
              "          quickchartButtonEl.classList.add('colab-df-spinner');\n",
              "          try {\n",
              "            const charts = await google.colab.kernel.invokeFunction(\n",
              "                'suggestCharts', [key], {});\n",
              "          } catch (error) {\n",
              "            console.error('Error during call to suggestCharts:', error);\n",
              "          }\n",
              "          quickchartButtonEl.classList.remove('colab-df-spinner');\n",
              "          quickchartButtonEl.classList.add('colab-df-quickchart-complete');\n",
              "        }\n",
              "        (() => {\n",
              "          let quickchartButtonEl =\n",
              "            document.querySelector('#df-ae465c76-e013-4062-8d09-663a6dee0f30 button');\n",
              "          quickchartButtonEl.style.display =\n",
              "            google.colab.kernel.accessAllowed ? 'block' : 'none';\n",
              "        })();\n",
              "      </script>\n",
              "    </div>\n",
              "\n",
              "    </div>\n",
              "  </div>\n"
            ],
            "application/vnd.google.colaboratory.intrinsic+json": {
              "type": "dataframe",
              "summary": "{\n  \"name\": \"data_cleanup_summary('student_data\",\n  \"rows\": 2,\n  \"fields\": [\n    {\n      \"column\": \"Gender\",\n      \"properties\": {\n        \"dtype\": \"string\",\n        \"num_unique_values\": 2,\n        \"samples\": [\n          \"Male\",\n          \"Female\"\n        ],\n        \"semantic_type\": \"\",\n        \"description\": \"\"\n      }\n    },\n    {\n      \"column\": \"Math\",\n      \"properties\": {\n        \"dtype\": \"number\",\n        \"std\": 0.09899494936611705,\n        \"min\": 88.33,\n        \"max\": 88.47,\n        \"num_unique_values\": 2,\n        \"samples\": [\n          88.47,\n          88.33\n        ],\n        \"semantic_type\": \"\",\n        \"description\": \"\"\n      }\n    },\n    {\n      \"column\": \"Science\",\n      \"properties\": {\n        \"dtype\": \"number\",\n        \"std\": 1.979898987322331,\n        \"min\": 86.2,\n        \"max\": 89.0,\n        \"num_unique_values\": 2,\n        \"samples\": [\n          86.2,\n          89.0\n        ],\n        \"semantic_type\": \"\",\n        \"description\": \"\"\n      }\n    },\n    {\n      \"column\": \"English\",\n      \"properties\": {\n        \"dtype\": \"number\",\n        \"std\": 1.4142135623730951,\n        \"min\": 88.0,\n        \"max\": 90.0,\n        \"num_unique_values\": 2,\n        \"samples\": [\n          88.0,\n          90.0\n        ],\n        \"semantic_type\": \"\",\n        \"description\": \"\"\n      }\n    }\n  ]\n}"
            }
          },
          "metadata": {},
          "execution_count": 20
        }
      ]
    },
    {
      "cell_type": "markdown",
      "source": [
        "Q2]"
      ],
      "metadata": {
        "id": "JD8NzW_sY1cP"
      }
    },
    {
      "cell_type": "code",
      "source": [
        "def dictionary_stats(user_scores_dict):\n",
        "\n",
        "    result = {}\n",
        "\n",
        "    for user, scores in user_scores_dict.items():\n",
        "        result[user] = {\n",
        "            'average': np.mean(scores),\n",
        "            'min': np.min(scores),\n",
        "            'max': np.max(scores)\n",
        "        }\n",
        "\n",
        "    return result"
      ],
      "metadata": {
        "id": "kswrIVb7Xt4K"
      },
      "execution_count": 21,
      "outputs": []
    },
    {
      "cell_type": "markdown",
      "source": [
        "#Section B\n",
        "Q3]"
      ],
      "metadata": {
        "id": "LSg4DRG2btel"
      }
    },
    {
      "cell_type": "code",
      "source": [
        "from sklearn.datasets import load_iris\n",
        "from sklearn.model_selection import train_test_split\n",
        "from sklearn.tree import DecisionTreeClassifier\n",
        "import matplotlib.pyplot as plt\n",
        "import seaborn as sns\n",
        "from sklearn.metrics import accuracy_score, confusion_matrix, mean_absolute_error"
      ],
      "metadata": {
        "id": "i-xNlkhhiwXg"
      },
      "execution_count": 22,
      "outputs": []
    },
    {
      "cell_type": "code",
      "source": [
        "iris = load_iris()\n",
        "X, y = iris.data, iris.target\n",
        "\n",
        "# Split\n",
        "X_train, X_test, y_train, y_test = train_test_split(X, y, test_size=0.2, random_state=42)\n",
        "\n",
        "# Train Decision Tree classifier\n",
        "dt_classifier = DecisionTreeClassifier(random_state=42)\n",
        "dt_classifier.fit(X_train, y_train)\n",
        "\n",
        "# Predict and calculate accuracy\n",
        "y_pred = dt_classifier.predict(X_test)\n",
        "accuracy = accuracy_score(y_test, y_pred)\n",
        "\n",
        "print(f\"Iris Classification Results:\")\n",
        "print(f\"Accuracy: {accuracy:.4f}\")\n",
        "\n",
        "\n",
        "plt.figure(figsize=(8, 6))\n",
        "cm = confusion_matrix(y_test, y_pred)\n",
        "sns.heatmap(cm, annot=True, fmt='d', cmap='Blues',\n",
        "            xticklabels=iris.target_names,\n",
        "            yticklabels=iris.target_names)\n",
        "plt.title('Confusion Matrix - Iris Classification')\n",
        "plt.xlabel('Predicted')\n",
        "plt.ylabel('Actual')\n",
        "plt.show()\n"
      ],
      "metadata": {
        "colab": {
          "base_uri": "https://localhost:8080/",
          "height": 599
        },
        "id": "WJlJvUp1ZEZ0",
        "outputId": "70c5eeec-9f59-4cb2-9743-207dec9ac690"
      },
      "execution_count": 23,
      "outputs": [
        {
          "output_type": "stream",
          "name": "stdout",
          "text": [
            "Iris Classification Results:\n",
            "Accuracy: 1.0000\n"
          ]
        },
        {
          "output_type": "display_data",
          "data": {
            "text/plain": [
              "<Figure size 800x600 with 2 Axes>"
            ],
            "image/png": "[encoded data removed]"
          },
          "metadata": {}
        }
      ]
    },
    {
      "cell_type": "markdown",
      "source": [
        "Q4]"
      ],
      "metadata": {
        "id": "nQ-MFFpdc34M"
      }
    },
    {
      "cell_type": "code",
      "source": [
        "from sklearn.linear_model import LinearRegression\n"
      ],
      "metadata": {
        "id": "a1ny6NA0jEB6"
      },
      "execution_count": 24,
      "outputs": []
    },
    {
      "cell_type": "code",
      "source": [
        "# Load the CSV file\n",
        "df = pd.read_csv('house_data.csv')\n",
        "print(\"Housing data loaded:\")\n",
        "print(df.head())\n",
        "\n",
        "np.random.seed(42)\n",
        "n_samples = 100\n",
        "area = np.random.normal(1500, 500, n_samples)\n",
        "bedrooms = np.random.randint(1, 6, n_samples)\n",
        "# Price roughly correlated with area and bedrooms\n",
        "price = area * 100 + bedrooms * 10000 + np.random.normal(0, 20000, n_samples)\n",
        "\n",
        "df = pd.DataFrame({\n",
        "    'area': area,\n",
        "    'bedrooms': bedrooms,\n",
        "    'price': price\n",
        "})\n",
        "print(\"Sample housing data created:\")\n",
        "print(df.head())\n",
        "\n",
        "# Prepare features and target\n",
        "X = df[['area', 'bedrooms']]\n",
        "y = df['price']\n",
        "\n",
        "# Split the data\n",
        "X_train, X_test, y_train, y_test = train_test_split(X, y, test_size=0.2, random_state=42)\n",
        "\n",
        "# Build and train linear regression model\n",
        "lr_model = LinearRegression()\n",
        "lr_model.fit(X_train, y_train)\n",
        "\n",
        "# Make predictions\n",
        "y_pred = lr_model.predict(X_test)\n",
        "\n",
        "# Calculate Mean Absolute Error\n",
        "mae = mean_absolute_error(y_test, y_pred)\n",
        "print(f\"\\nLinear Regression Results:\")\n",
        "print(f\"Mean Absolute Error: ${mae:,.2f}\")\n",
        "\n",
        "# Plot actual vs predicted prices\n",
        "plt.figure(figsize=(10, 6))\n",
        "plt.scatter(y_test, y_pred, alpha=0.7)\n",
        "plt.plot([y_test.min(), y_test.max()], [y_test.min(), y_test.max()], 'r--', lw=2)\n",
        "plt.xlabel('Actual Price')\n",
        "plt.ylabel('Predicted Price')\n",
        "plt.title('Actual vs Predicted House Prices')\n",
        "plt.grid(True, alpha=0.3)\n",
        "plt.show()\n"
      ],
      "metadata": {
        "colab": {
          "base_uri": "https://localhost:8080/",
          "height": 859
        },
        "id": "x8zcoOg9cb2R",
        "outputId": "1b5d0014-cc2b-41c8-b41a-18f50f2fe97a"
      },
      "execution_count": 25,
      "outputs": [
        {
          "output_type": "stream",
          "name": "stdout",
          "text": [
            "Housing data loaded:\n",
            "   Unnamed: 0  area  bedrooms   price\n",
            "0           0  1799         4  302105\n",
            "1           1  1545         3  269033\n",
            "2           2  1859         3  284807\n",
            "3           3  2209         5  461661\n",
            "4           4  1506         3  241147\n",
            "Sample housing data created:\n",
            "          area  bedrooms          price\n",
            "0  1748.357077         1  205822.655497\n",
            "1  1430.867849         5  219588.898172\n",
            "2  1823.844269         1  207074.448203\n",
            "3  2261.514928         3  237061.547581\n",
            "4  1382.923313         2  143268.742771\n",
            "\n",
            "Linear Regression Results:\n",
            "Mean Absolute Error: $21,260.01\n"
          ]
        },
        {
          "output_type": "display_data",
          "data": {
            "text/plain": [
              "<Figure size 1000x600 with 1 Axes>"
            ],
            "image/png": "[encoded data removed]"
          },
          "metadata": {}
        }
      ]
    },
    {
      "cell_type": "markdown",
      "source": [
        "#Section C\n",
        "Q5]"
      ],
      "metadata": {
        "id": "0JV6OV8-dtR8"
      }
    },
    {
      "cell_type": "markdown",
      "source": [
        "1. What is overfitting in machine learning?\n",
        "  \n",
        ">Overfitting occurs when a model learns the training data too well, including noise, making it perform poorly on new, unseen data."
      ],
      "metadata": {
        "id": "nEcVdmMTeg1t"
      }
    },
    {
      "cell_type": "markdown",
      "source": [
        "2. When would you use a decision tree over logistic regression?\n",
        "    \n",
        ">Use decision trees when you need interpretable rules and can handle non-linear relationships; use logistic regression for linear relationships and when you need probability estimates."
      ],
      "metadata": {
        "id": "pQtPbYhjgq5i"
      }
    },
    {
      "cell_type": "markdown",
      "source": [
        "3. Explain the train-test split and why it’s important.\n",
        "\n",
        ">Train-test split separates data for training and evaluation, ensuring we test the model's performance on unseen data to detect overfitting."
      ],
      "metadata": {
        "id": "rtnXxnEEgq24"
      }
    },
    {
      "cell_type": "markdown",
      "source": [
        "4. What’s the purpose of normalization?\n",
        "\n",
        "\n",
        "> Normalization scales features to similar ranges, preventing features with larger scales from dominating the model and improving convergence.\n",
        "\n"
      ],
      "metadata": {
        "id": "zjw2asBLgq0m"
      }
    },
    {
      "cell_type": "markdown",
      "source": [
        "5. What’s the difference between classification and regression?\n",
        "\n",
        ">Classification predicts discrete categories, while regression predicts continuous numerical values."
      ],
      "metadata": {
        "id": "P7XXOJxZhemn"
      }
    },
    {
      "cell_type": "markdown",
      "source": [
        "q6]"
      ],
      "metadata": {
        "id": "JlZnag1qh0gk"
      }
    },
    {
      "cell_type": "code",
      "source": [
        "from sklearn.datasets import fetch_20newsgroups\n",
        "from sklearn.feature_extraction.text import TfidfVectorizer\n",
        "from sklearn.linear_model import LogisticRegression\n",
        "from sklearn.metrics import accuracy_score"
      ],
      "metadata": {
        "id": "TVxHxax1iQQA"
      },
      "execution_count": 17,
      "outputs": []
    },
    {
      "cell_type": "code",
      "source": [
        "categories = ['rec.autos', 'comp.sys.mac.hardware']\n",
        "newsgroups_train = fetch_20newsgroups(subset='train', categories=categories,\n",
        "                                     shuffle=True, random_state=42)\n",
        "newsgroups_test = fetch_20newsgroups(subset='test', categories=categories,\n",
        "                                    shuffle=True, random_state=42)\n",
        "\n",
        "vectorizer = TfidfVectorizer(max_features=10000, stop_words='english')\n",
        "X_train = vectorizer.fit_transform(newsgroups_train.data)\n",
        "X_test = vectorizer.transform(newsgroups_test.data)\n",
        "\n",
        "y_train = newsgroups_train.target\n",
        "y_test = newsgroups_test.target\n",
        "\n",
        "lr_classifier = LogisticRegression(random_state=42, max_iter=1000)\n",
        "lr_classifier.fit(X_train, y_train)\n",
        "\n",
        "y_pred = lr_classifier.predict(X_test)\n",
        "accuracy = accuracy_score(y_test, y_pred)\n",
        "\n",
        "print(f\"\\nNLP Classification Results:\")\n",
        "print(f\"Accuracy: {accuracy:.4f}\")\n",
        "\n",
        "feature_names = vectorizer.get_feature_names_out()\n",
        "\n",
        "print(\"\\nMost important words per class:\")\n",
        "for i, category in enumerate(categories):\n",
        "    top_indices = lr_classifier.coef_[0].argsort()[-5:][::-1] if i == 0 else lr_classifier.coef_[0].argsort()[:5]\n",
        "    top_words = [feature_names[idx] for idx in top_indices]\n",
        "    print(f\"{category}: {', '.join(top_words)}\")"
      ],
      "metadata": {
        "colab": {
          "base_uri": "https://localhost:8080/"
        },
        "id": "9llT-Qm5d2-y",
        "outputId": "748e4c94-f851-492f-ccfb-3866b3e88216"
      },
      "execution_count": 19,
      "outputs": [
        {
          "output_type": "stream",
          "name": "stdout",
          "text": [
            "\n",
            "NLP Classification Results:\n",
            "Accuracy: 0.9821\n",
            "\n",
            "Most important words per class:\n",
            "rec.autos: car, com, cars, engine, oil\n",
            "comp.sys.mac.hardware: mac, apple, monitor, scsi, quadra\n"
          ]
        }
      ]
    }
  ]
}