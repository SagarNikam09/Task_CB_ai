{
  "nbformat": 4,
  "nbformat_minor": 0,
  "metadata": {
    "colab": {
      "provenance": [],
      "authorship_tag": "ABX9TyNHK8nQTX6fObiAVG7vd8EV",
      "include_colab_link": true
    },
    "kernelspec": {
      "name": "python3",
      "display_name": "Python 3"
    },
    "language_info": {
      "name": "python"
    }
  },
  "cells": [
    {
      "cell_type": "markdown",
      "metadata": {
        "id": "view-in-github",
        "colab_type": "text"
      },
      "source": [
        "<a href=\"https://colab.research.google.com/github/SagarNikam09/Task_CB_ai/blob/main/task_CB_testing.ipynb\" target=\"_parent\"><img src=\"https://colab.research.google.com/assets/colab-badge.svg\" alt=\"Open In Colab\"/></a>"
      ]
    },
    {
      "cell_type": "code",
      "source": [
        "import pandas as pd\n",
        "import numpy as np"
      ],
      "metadata": {
        "id": "zYMcQ28rZ1H9"
      },
      "execution_count": 2,
      "outputs": []
    },
    {
      "cell_type": "code",
      "execution_count": 3,
      "metadata": {
        "colab": {
          "base_uri": "https://localhost:8080/"
        },
        "id": "ygQfG8IiZmSY",
        "outputId": "7a05c476-4460-4241-85e6-abedb363ff62"
      },
      "outputs": [
        {
          "output_type": "stream",
          "name": "stdout",
          "text": [
            "Sample data created:\n",
            "      Name  Math  Science  English  Gender\n",
            "0    Alice  85.0     88.0     90.0  Female\n",
            "1      Bob  90.0      NaN     87.0    Male\n",
            "2  Charlie   NaN     85.0     89.0    Male\n",
            "3    Diana  88.0     90.0      NaN  Female\n",
            "4      Eve  92.0     89.0     91.0  Female\n",
            "5    Frank  87.0     86.0     88.0    Male\n",
            "\n",
            "Summary by Gender:\n",
            "         Math  Science  English\n",
            "Gender                         \n",
            "Female  88.33     89.0     90.0\n",
            "Male    88.47     86.2     88.0\n"
          ]
        }
      ],
      "source": [
        "sample_data = {\n",
        "    'Name': ['Alice', 'Bob', 'Charlie', 'Diana', 'Eve', 'Frank'],\n",
        "    'Math': [85, 90, None, 88, 92, 87],\n",
        "    'Science': [88, None, 85, 90, 89, 86],\n",
        "    'English': [90, 87, 89, None, 91, 88],\n",
        "    'Gender': ['Female', 'Male', 'Male', 'Female', 'Female', 'Male']\n",
        "}\n",
        "df = pd.DataFrame(sample_data)\n",
        "\n",
        "print(\"Sample data created:\")\n",
        "print(df)\n",
        "\n",
        "# Process the sample data\n",
        "numeric_columns = ['Math', 'Science', 'English']\n",
        "for col in numeric_columns:\n",
        "    df[col] = df[col].fillna(df[col].mean())\n",
        "\n",
        "df['Gender_Binary'] = df['Gender'].map({'Male': 1, 'Female': 0})\n",
        "summary = df.groupby('Gender')[numeric_columns].mean().round(2)\n",
        "\n",
        "print(f\"\\nSummary by Gender:\")\n",
        "print(summary)"
      ]
    },
    {
      "cell_type": "code",
      "source": [
        "df.to_csv('student_data.csv')"
      ],
      "metadata": {
        "id": "g0HjcrcyZytn"
      },
      "execution_count": 4,
      "outputs": []
    },
    {
      "cell_type": "markdown",
      "source": [
        "Q4]"
      ],
      "metadata": {
        "id": "RmOuhGoCdXHh"
      }
    },
    {
      "cell_type": "code",
      "source": [
        "import matplotlib.pyplot as plt\n",
        "import seaborn as sns"
      ],
      "metadata": {
        "id": "MfxCNXjoe9TG"
      },
      "execution_count": 5,
      "outputs": []
    },
    {
      "cell_type": "code",
      "source": [
        "n_samples = 150\n",
        "np.random.seed(42)\n",
        "\n",
        "area_base = np.random.normal(1600, 400, n_samples)\n",
        "area = np.clip(area_base, 600, 3500).round().astype(int)\n",
        "\n",
        "\n",
        "bedrooms_base = area / 500\n",
        "bedrooms_noise = np.random.normal(0, 0.5, n_samples)\n",
        "bedrooms = np.round(bedrooms_base + bedrooms_noise)\n",
        "bedrooms = np.clip(bedrooms, 1, 6).astype(int)\n",
        "\n",
        "\n",
        "price_per_sqft = np.random.normal(120, 15, n_samples)\n",
        "price_per_sqft = np.clip(price_per_sqft, 80, 200)\n",
        "\n",
        "\n",
        "area_price = area * price_per_sqft\n",
        "bedroom_bonus = bedrooms * 25000\n",
        "\n",
        "location_multiplier = np.random.normal(1.0, 0.15, n_samples)\n",
        "location_multiplier = np.clip(location_multiplier, 0.7, 1.4)\n",
        "\n",
        "\n",
        "market_noise = np.random.normal(0, 15000, n_samples)\n",
        "\n",
        "\n",
        "price = (area_price + bedroom_bonus) * location_multiplier + market_noise\n",
        "price = np.clip(price, 50000, 800000).round().astype(int)\n",
        "\n",
        "\n",
        "df = pd.DataFrame({\n",
        "    'area': area,\n",
        "    'bedrooms': bedrooms,\n",
        "    'price': price\n",
        "})"
      ],
      "metadata": {
        "id": "C1pOZJg5aIKV"
      },
      "execution_count": 7,
      "outputs": []
    },
    {
      "cell_type": "code",
      "source": [
        "df.to_csv('house_data.csv')"
      ],
      "metadata": {
        "id": "Bq8sfXwuftAN"
      },
      "execution_count": 8,
      "outputs": []
    },
    {
      "cell_type": "code",
      "source": [],
      "metadata": {
        "id": "Emz3n9xUf1av"
      },
      "execution_count": null,
      "outputs": []
    }
  ]
}